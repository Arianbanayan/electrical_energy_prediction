{
  "cells": [
    {
      "cell_type": "markdown",
      "metadata": {
        "colab_type": "text",
        "id": "3cbb7fRy-eyr"
      },
      "source": [
        "# Artificial Neural Network"
      ]
    },
    {
      "cell_type": "markdown",
      "metadata": {
        "colab_type": "text",
        "id": "8sNDnxE2-pwE"
      },
      "source": [
        "### Importing the libraries"
      ]
    },
    {
      "cell_type": "code",
      "execution_count": 102,
      "metadata": {
        "colab": {},
        "colab_type": "code",
        "id": "lxChR1Rk-umf"
      },
      "outputs": [],
      "source": [
        "import numpy as np\n",
        "import pandas as pd\n",
        "import tensorflow as tf\n",
        "from tkinter import *\n"
      ]
    },
    {
      "cell_type": "code",
      "execution_count": 103,
      "metadata": {
        "colab": {
          "base_uri": "https://localhost:8080/",
          "height": 34
        },
        "colab_type": "code",
        "id": "uBTqR3nacj0e",
        "outputId": "4c0bd183-e424-429a-9fba-ceb841c06888"
      },
      "outputs": [
        {
          "data": {
            "text/plain": [
              "'2.15.0'"
            ]
          },
          "execution_count": 103,
          "metadata": {},
          "output_type": "execute_result"
        }
      ],
      "source": [
        "tf.__version__"
      ]
    },
    {
      "cell_type": "markdown",
      "metadata": {
        "colab_type": "text",
        "id": "AG3FQEch-yuA"
      },
      "source": [
        "## Part 1 - Data Preprocessing"
      ]
    },
    {
      "cell_type": "markdown",
      "metadata": {
        "colab_type": "text",
        "id": "-4zq8Mza_D9O"
      },
      "source": [
        "### Importing the dataset"
      ]
    },
    {
      "cell_type": "code",
      "execution_count": 104,
      "metadata": {
        "colab": {},
        "colab_type": "code",
        "id": "B9CV13Co_HHM"
      },
      "outputs": [],
      "source": [
        "dataset = pd.read_excel('Folds5x2_pp.xlsx')\n",
        "X = dataset.iloc[:, :-1].values\n",
        "y = dataset.iloc[:, -1].values"
      ]
    },
    {
      "cell_type": "markdown",
      "metadata": {
        "colab_type": "text",
        "id": "VC6omXel_Up0"
      },
      "source": [
        "### Splitting the dataset into the Training set and Test set"
      ]
    },
    {
      "cell_type": "code",
      "execution_count": 105,
      "metadata": {
        "colab": {},
        "colab_type": "code",
        "id": "L5edeb2r_agx"
      },
      "outputs": [],
      "source": [
        "from sklearn.model_selection import train_test_split\n",
        "X_train, X_test, y_train, y_test = train_test_split(X, y, test_size = 0.2, random_state = 0)"
      ]
    },
    {
      "cell_type": "markdown",
      "metadata": {
        "colab_type": "text",
        "id": "_mSLlAT9_eyI"
      },
      "source": [
        "## Part 2 - Building the ANN"
      ]
    },
    {
      "cell_type": "markdown",
      "metadata": {
        "colab_type": "text",
        "id": "CsBULd_f_wLY"
      },
      "source": [
        "### Initializing the ANN"
      ]
    },
    {
      "cell_type": "code",
      "execution_count": 106,
      "metadata": {
        "colab": {},
        "colab_type": "code",
        "id": "J6Hd97Ls__Nz"
      },
      "outputs": [],
      "source": [
        "ann = tf.keras.models.Sequential()"
      ]
    },
    {
      "cell_type": "markdown",
      "metadata": {
        "colab_type": "text",
        "id": "iitAFJS_ABUn"
      },
      "source": [
        "### Adding the input layer and the first hidden layer"
      ]
    },
    {
      "cell_type": "code",
      "execution_count": 107,
      "metadata": {
        "colab": {},
        "colab_type": "code",
        "id": "ksO_Vv40AHix"
      },
      "outputs": [],
      "source": [
        "ann.add(tf.keras.layers.Dense(units=6, activation='relu'))"
      ]
    },
    {
      "cell_type": "markdown",
      "metadata": {
        "colab_type": "text",
        "id": "-lb4kK_wAKbs"
      },
      "source": [
        "### Adding the second hidden layer"
      ]
    },
    {
      "cell_type": "code",
      "execution_count": 108,
      "metadata": {
        "colab": {},
        "colab_type": "code",
        "id": "c2357OqEAQOQ"
      },
      "outputs": [],
      "source": [
        "ann.add(tf.keras.layers.Dense(units=6, activation='relu'))"
      ]
    },
    {
      "cell_type": "markdown",
      "metadata": {
        "colab_type": "text",
        "id": "jwMOmKb3AdBY"
      },
      "source": [
        "### Adding the output layer"
      ]
    },
    {
      "cell_type": "code",
      "execution_count": 109,
      "metadata": {
        "colab": {},
        "colab_type": "code",
        "id": "YFATpzsUAkLL"
      },
      "outputs": [],
      "source": [
        "ann.add(tf.keras.layers.Dense(units=1))"
      ]
    },
    {
      "cell_type": "markdown",
      "metadata": {
        "colab_type": "text",
        "id": "fq7e4fF6A1yy"
      },
      "source": [
        "## Part 3 - Training the ANN"
      ]
    },
    {
      "cell_type": "markdown",
      "metadata": {
        "colab_type": "text",
        "id": "qDeylAs2An25"
      },
      "source": [
        "### Compiling the ANN"
      ]
    },
    {
      "cell_type": "code",
      "execution_count": 110,
      "metadata": {
        "colab": {},
        "colab_type": "code",
        "id": "pesgbWlCAtB4"
      },
      "outputs": [],
      "source": [
        "ann.compile(optimizer = 'adam', loss = 'mean_squared_error')"
      ]
    },
    {
      "cell_type": "markdown",
      "metadata": {
        "colab_type": "text",
        "id": "YjVuiybYOo7r"
      },
      "source": [
        "### Training the ANN model on the Training set"
      ]
    },
    {
      "cell_type": "code",
      "execution_count": 111,
      "metadata": {
        "colab": {
          "base_uri": "https://localhost:8080/",
          "height": 1000
        },
        "colab_type": "code",
        "id": "c_vV-tiiA5zn",
        "outputId": "4a2b6ee6-ed75-4698-9069-b250e613803f"
      },
      "outputs": [
        {
          "name": "stdout",
          "output_type": "stream",
          "text": [
            "Epoch 1/100\n"
          ]
        },
        {
          "name": "stdout",
          "output_type": "stream",
          "text": [
            "240/240 [==============================] - 2s 2ms/step - loss: 5073.1406\n",
            "Epoch 2/100\n",
            "240/240 [==============================] - 1s 2ms/step - loss: 243.5798\n",
            "Epoch 3/100\n",
            "240/240 [==============================] - 1s 2ms/step - loss: 217.4852\n",
            "Epoch 4/100\n",
            "240/240 [==============================] - 1s 2ms/step - loss: 187.7763\n",
            "Epoch 5/100\n",
            "240/240 [==============================] - 1s 2ms/step - loss: 156.4670\n",
            "Epoch 6/100\n",
            "240/240 [==============================] - 1s 2ms/step - loss: 126.9879\n",
            "Epoch 7/100\n",
            "240/240 [==============================] - 1s 2ms/step - loss: 100.3492\n",
            "Epoch 8/100\n",
            "240/240 [==============================] - 1s 2ms/step - loss: 77.9710\n",
            "Epoch 9/100\n",
            "240/240 [==============================] - 1s 2ms/step - loss: 60.0768\n",
            "Epoch 10/100\n",
            "240/240 [==============================] - 1s 2ms/step - loss: 47.8485\n",
            "Epoch 11/100\n",
            "240/240 [==============================] - 1s 2ms/step - loss: 39.5102\n",
            "Epoch 12/100\n",
            "240/240 [==============================] - 1s 2ms/step - loss: 35.0539\n",
            "Epoch 13/100\n",
            "240/240 [==============================] - 1s 2ms/step - loss: 32.4462\n",
            "Epoch 14/100\n",
            "240/240 [==============================] - 1s 2ms/step - loss: 31.4632\n",
            "Epoch 15/100\n",
            "240/240 [==============================] - 1s 2ms/step - loss: 30.9783\n",
            "Epoch 16/100\n",
            "240/240 [==============================] - 1s 3ms/step - loss: 30.6073\n",
            "Epoch 17/100\n",
            "240/240 [==============================] - 1s 2ms/step - loss: 30.5234\n",
            "Epoch 18/100\n",
            "240/240 [==============================] - 1s 2ms/step - loss: 30.3479\n",
            "Epoch 19/100\n",
            "240/240 [==============================] - 1s 2ms/step - loss: 30.4236\n",
            "Epoch 20/100\n",
            "240/240 [==============================] - 1s 2ms/step - loss: 29.6483\n",
            "Epoch 21/100\n",
            "240/240 [==============================] - 1s 2ms/step - loss: 29.1116\n",
            "Epoch 22/100\n",
            "240/240 [==============================] - 1s 2ms/step - loss: 29.8652\n",
            "Epoch 23/100\n",
            "240/240 [==============================] - 1s 2ms/step - loss: 28.5411\n",
            "Epoch 24/100\n",
            "240/240 [==============================] - 1s 2ms/step - loss: 29.4543\n",
            "Epoch 25/100\n",
            "240/240 [==============================] - 1s 2ms/step - loss: 28.6893\n",
            "Epoch 26/100\n",
            "240/240 [==============================] - 1s 2ms/step - loss: 29.2605\n",
            "Epoch 27/100\n",
            "240/240 [==============================] - 1s 2ms/step - loss: 29.0815\n",
            "Epoch 28/100\n",
            "240/240 [==============================] - 1s 2ms/step - loss: 27.6535\n",
            "Epoch 29/100\n",
            "240/240 [==============================] - 1s 2ms/step - loss: 27.9993\n",
            "Epoch 30/100\n",
            "240/240 [==============================] - 1s 2ms/step - loss: 28.3383\n",
            "Epoch 31/100\n",
            "240/240 [==============================] - 1s 2ms/step - loss: 28.0965\n",
            "Epoch 32/100\n",
            "240/240 [==============================] - 1s 2ms/step - loss: 28.0478\n",
            "Epoch 33/100\n",
            "240/240 [==============================] - 1s 2ms/step - loss: 27.7035\n",
            "Epoch 34/100\n",
            "240/240 [==============================] - 1s 2ms/step - loss: 27.5782\n",
            "Epoch 35/100\n",
            "240/240 [==============================] - 1s 2ms/step - loss: 27.3246\n",
            "Epoch 36/100\n",
            "240/240 [==============================] - 1s 3ms/step - loss: 26.9943\n",
            "Epoch 37/100\n",
            "240/240 [==============================] - 1s 2ms/step - loss: 27.2021\n",
            "Epoch 38/100\n",
            "240/240 [==============================] - 1s 2ms/step - loss: 27.6308\n",
            "Epoch 39/100\n",
            "240/240 [==============================] - 1s 2ms/step - loss: 27.9557\n",
            "Epoch 40/100\n",
            "240/240 [==============================] - 1s 2ms/step - loss: 26.8879\n",
            "Epoch 41/100\n",
            "240/240 [==============================] - 1s 2ms/step - loss: 27.9927\n",
            "Epoch 42/100\n",
            "240/240 [==============================] - 1s 2ms/step - loss: 28.2549\n",
            "Epoch 43/100\n",
            "240/240 [==============================] - 1s 2ms/step - loss: 27.2878\n",
            "Epoch 44/100\n",
            "240/240 [==============================] - 1s 2ms/step - loss: 26.5999\n",
            "Epoch 45/100\n",
            "240/240 [==============================] - 1s 2ms/step - loss: 27.2471\n",
            "Epoch 46/100\n",
            "240/240 [==============================] - 1s 3ms/step - loss: 27.5855\n",
            "Epoch 47/100\n",
            "240/240 [==============================] - 1s 4ms/step - loss: 27.5617\n",
            "Epoch 48/100\n",
            "240/240 [==============================] - 1s 3ms/step - loss: 27.4668\n",
            "Epoch 49/100\n",
            "240/240 [==============================] - 1s 2ms/step - loss: 27.1415\n",
            "Epoch 50/100\n",
            "240/240 [==============================] - 1s 3ms/step - loss: 27.1515\n",
            "Epoch 51/100\n",
            "240/240 [==============================] - 1s 3ms/step - loss: 26.7616\n",
            "Epoch 52/100\n",
            "240/240 [==============================] - 1s 3ms/step - loss: 27.3943\n",
            "Epoch 53/100\n",
            "240/240 [==============================] - 1s 3ms/step - loss: 28.7782\n",
            "Epoch 54/100\n",
            "240/240 [==============================] - 1s 3ms/step - loss: 27.6647\n",
            "Epoch 55/100\n",
            "240/240 [==============================] - 1s 3ms/step - loss: 26.9638\n",
            "Epoch 56/100\n",
            "240/240 [==============================] - 1s 2ms/step - loss: 27.2012\n",
            "Epoch 57/100\n",
            "240/240 [==============================] - 1s 3ms/step - loss: 28.1199\n",
            "Epoch 58/100\n",
            "240/240 [==============================] - 1s 2ms/step - loss: 28.6729\n",
            "Epoch 59/100\n",
            "240/240 [==============================] - 1s 2ms/step - loss: 26.7843\n",
            "Epoch 60/100\n",
            "240/240 [==============================] - 1s 3ms/step - loss: 27.7706\n",
            "Epoch 61/100\n",
            "240/240 [==============================] - 1s 2ms/step - loss: 26.7199\n",
            "Epoch 62/100\n",
            "240/240 [==============================] - 1s 3ms/step - loss: 27.5451\n",
            "Epoch 63/100\n",
            "240/240 [==============================] - 1s 2ms/step - loss: 27.7707\n",
            "Epoch 64/100\n",
            "240/240 [==============================] - 1s 3ms/step - loss: 27.2352\n",
            "Epoch 65/100\n",
            "240/240 [==============================] - 1s 3ms/step - loss: 27.7564\n",
            "Epoch 66/100\n",
            "240/240 [==============================] - 1s 2ms/step - loss: 27.0926\n",
            "Epoch 67/100\n",
            "240/240 [==============================] - 1s 3ms/step - loss: 27.7756\n",
            "Epoch 68/100\n",
            "240/240 [==============================] - 1s 3ms/step - loss: 27.4190\n",
            "Epoch 69/100\n",
            "240/240 [==============================] - 1s 3ms/step - loss: 27.3674\n",
            "Epoch 70/100\n",
            "240/240 [==============================] - 1s 3ms/step - loss: 27.7462\n",
            "Epoch 71/100\n",
            "240/240 [==============================] - 1s 3ms/step - loss: 27.0952\n",
            "Epoch 72/100\n",
            "240/240 [==============================] - 1s 3ms/step - loss: 27.6317\n",
            "Epoch 73/100\n",
            "240/240 [==============================] - 1s 2ms/step - loss: 27.3420\n",
            "Epoch 74/100\n",
            "240/240 [==============================] - 1s 3ms/step - loss: 26.9679\n",
            "Epoch 75/100\n",
            "240/240 [==============================] - 1s 3ms/step - loss: 27.9602\n",
            "Epoch 76/100\n",
            "240/240 [==============================] - 1s 2ms/step - loss: 26.8902\n",
            "Epoch 77/100\n",
            "240/240 [==============================] - 1s 3ms/step - loss: 27.1647\n",
            "Epoch 78/100\n",
            "240/240 [==============================] - 1s 2ms/step - loss: 27.0086\n",
            "Epoch 79/100\n",
            "240/240 [==============================] - 1s 3ms/step - loss: 27.5572\n",
            "Epoch 80/100\n",
            "240/240 [==============================] - 1s 3ms/step - loss: 27.9785\n",
            "Epoch 81/100\n",
            "240/240 [==============================] - 1s 2ms/step - loss: 27.2789\n",
            "Epoch 82/100\n",
            "240/240 [==============================] - 1s 3ms/step - loss: 27.2329\n",
            "Epoch 83/100\n",
            "240/240 [==============================] - 1s 2ms/step - loss: 27.8413\n",
            "Epoch 84/100\n",
            "240/240 [==============================] - 1s 3ms/step - loss: 27.1204\n",
            "Epoch 85/100\n",
            "240/240 [==============================] - 1s 3ms/step - loss: 27.9620\n",
            "Epoch 86/100\n",
            "240/240 [==============================] - 1s 2ms/step - loss: 27.6265\n",
            "Epoch 87/100\n",
            "240/240 [==============================] - 1s 3ms/step - loss: 27.2039\n",
            "Epoch 88/100\n",
            "240/240 [==============================] - 1s 2ms/step - loss: 26.9215\n",
            "Epoch 89/100\n",
            "240/240 [==============================] - 1s 2ms/step - loss: 26.8367\n",
            "Epoch 90/100\n",
            "240/240 [==============================] - 1s 3ms/step - loss: 27.7672\n",
            "Epoch 91/100\n",
            "240/240 [==============================] - 1s 3ms/step - loss: 27.0234\n",
            "Epoch 92/100\n",
            "240/240 [==============================] - 1s 3ms/step - loss: 27.0287\n",
            "Epoch 93/100\n",
            "240/240 [==============================] - 1s 2ms/step - loss: 27.8339\n",
            "Epoch 94/100\n",
            "240/240 [==============================] - 1s 3ms/step - loss: 27.3846\n",
            "Epoch 95/100\n",
            "240/240 [==============================] - 1s 3ms/step - loss: 26.9182\n",
            "Epoch 96/100\n",
            "240/240 [==============================] - 1s 2ms/step - loss: 26.8822\n",
            "Epoch 97/100\n",
            "240/240 [==============================] - 1s 3ms/step - loss: 27.2175\n",
            "Epoch 98/100\n",
            "240/240 [==============================] - 1s 3ms/step - loss: 27.1809\n",
            "Epoch 99/100\n",
            "240/240 [==============================] - 1s 3ms/step - loss: 27.3402\n",
            "Epoch 100/100\n",
            "240/240 [==============================] - 1s 3ms/step - loss: 27.6169\n"
          ]
        },
        {
          "data": {
            "text/plain": [
              "<keras.src.callbacks.History at 0x26b8226b450>"
            ]
          },
          "execution_count": 111,
          "metadata": {},
          "output_type": "execute_result"
        }
      ],
      "source": [
        "ann.fit(X_train, y_train, batch_size = 32, epochs = 100)"
      ]
    },
    {
      "cell_type": "markdown",
      "metadata": {
        "colab_type": "text",
        "id": "0H0zKKNEBLD5"
      },
      "source": [
        "### Predicting the results of the Test set"
      ]
    },
    {
      "cell_type": "code",
      "execution_count": 112,
      "metadata": {
        "colab": {
          "base_uri": "https://localhost:8080/",
          "height": 134
        },
        "colab_type": "code",
        "id": "IA0yApEmBG1X",
        "outputId": "cb981e1f-9204-4a2a-fece-9d66a6919189"
      },
      "outputs": [
        {
          "name": "stdout",
          "output_type": "stream",
          "text": [
            "60/60 [==============================] - 0s 2ms/step\n",
            "[[429.57 431.23]\n",
            " [460.66 460.01]\n",
            " [464.17 461.14]\n",
            " ...\n",
            " [471.43 473.26]\n",
            " [438.1  438.  ]\n",
            " [457.4  463.28]]\n"
          ]
        }
      ],
      "source": [
        "y_pred = ann.predict(X_test)\n",
        "np.set_printoptions(precision=2)\n",
        "print(np.concatenate((y_pred.reshape(len(y_pred),1), y_test.reshape(len(y_test),1)),1))"
      ]
    },
    {
      "cell_type": "markdown",
      "metadata": {},
      "source": []
    },
    {
      "cell_type": "code",
      "execution_count": 113,
      "metadata": {},
      "outputs": [],
      "source": [
        "ann.save('my_model.keras')  # Save the model\n"
      ]
    }
  ],
  "metadata": {
    "colab": {
      "collapsed_sections": [],
      "name": "Artificial Neural Network",
      "provenance": [],
      "toc_visible": true
    },
    "kernelspec": {
      "display_name": "Python 3",
      "name": "python3"
    },
    "language_info": {
      "codemirror_mode": {
        "name": "ipython",
        "version": 3
      },
      "file_extension": ".py",
      "mimetype": "text/x-python",
      "name": "python",
      "nbconvert_exporter": "python",
      "pygments_lexer": "ipython3",
      "version": "3.11.4"
    }
  },
  "nbformat": 4,
  "nbformat_minor": 0
}
